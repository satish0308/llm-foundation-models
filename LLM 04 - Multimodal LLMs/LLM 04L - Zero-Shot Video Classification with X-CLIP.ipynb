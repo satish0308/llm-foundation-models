{
 "cells": [
  {
   "cell_type": "markdown",
   "metadata": {
    "application/vnd.databricks.v1+cell": {
     "cellMetadata": {},
     "inputWidgets": {},
     "nuid": "3f5b4d44-388e-477f-abb4-6d929ef68263",
     "showTitle": false,
     "title": ""
    }
   },
   "source": [
    "\n",
    "<div style=\"text-align: center; line-height: 0; padding-top: 9px;\">\n",
    "  <img src=\"https://databricks.com/wp-content/uploads/2018/03/db-academy-rgb-1200px.png\" alt=\"Databricks Learning\" style=\"width: 600px\">\n",
    "</div>"
   ]
  },
  {
   "cell_type": "markdown",
   "metadata": {
    "application/vnd.databricks.v1+cell": {
     "cellMetadata": {},
     "inputWidgets": {},
     "nuid": "ca6c7ad8-67d4-4f15-a893-5a7601092e77",
     "showTitle": false,
     "title": ""
    }
   },
   "source": [
    "\n",
    "# Zero-Shot Video Classification\n",
    "In this lab, we are going to pass a video of choice to [X-CLIP](https://huggingface.co/docs/transformers/model_doc/xclip) and ask X-CLIP to assign probabilities to the provided text description. This model developed by [Ni et al 2022](https://arxiv.org/abs/2208.02816) aims to extend OpenAI's CLIP model that's focused on image-related tasks. From Hugging Face's documentation:\n",
    "\n",
    ">The model consists of a text encoder, a cross-frame vision encoder, a multi-frame integration Transformer, and a video-specific prompt generator. \n",
    "\n",
    "### ![Dolly](https://files.training.databricks.com/images/llm/dolly_small.png) Learning Objectives\n",
    "1. You will learn how to load a video from YouTube and do minor processing on the video for X-CLIP \n",
    "1. Use X-CLIP to assign probabilities to text descriptions\n",
    "\n",
    "DISCLAIMER: The majority of this notebook's code is borrowed from Hugging Face's Tutorial GitHub Repo, specifically the[\"Transformers-Tutorials/X-CLIP\"](https://github.com/NielsRogge/Transformers-Tutorials/blob/master/X-CLIP/Zero_shot_classify_a_YouTube_video_with_X_CLIP.ipynb) notebook. "
   ]
  },
  {
   "cell_type": "markdown",
   "metadata": {
    "application/vnd.databricks.v1+cell": {
     "cellMetadata": {},
     "inputWidgets": {},
     "nuid": "1784d94c-923f-4bc4-88ba-8a85891a300e",
     "showTitle": false,
     "title": ""
    }
   },
   "source": [
    "We will use [pytube](https://pytube.io/en/latest/index.html) to get videos from YouTube and load videos using [decord](https://github.com/dmlc/decord)."
   ]
  },
  {
   "cell_type": "code",
   "execution_count": 0,
   "metadata": {
    "application/vnd.databricks.v1+cell": {
     "cellMetadata": {},
     "inputWidgets": {},
     "nuid": "262e6e7f-25ab-4709-a507-8a1ad024ef96",
     "showTitle": false,
     "title": ""
    }
   },
   "outputs": [],
   "source": [
    "%pip install decord==0.6.0 openai==0.27.8 pytube==15.0.0"
   ]
  },
  {
   "cell_type": "code",
   "execution_count": 0,
   "metadata": {
    "application/vnd.databricks.v1+cell": {
     "cellMetadata": {},
     "inputWidgets": {},
     "nuid": "b079a161-acb9-4449-a2a8-1a8b1ed91459",
     "showTitle": false,
     "title": ""
    }
   },
   "outputs": [],
   "source": [
    "%run ../Includes/pytube_patch"
   ]
  },
  {
   "cell_type": "markdown",
   "metadata": {
    "application/vnd.databricks.v1+cell": {
     "cellMetadata": {},
     "inputWidgets": {},
     "nuid": "dbb6f55a-383b-481b-9311-e3176438bd04",
     "showTitle": false,
     "title": ""
    }
   },
   "source": [
    "## Classroom Setup"
   ]
  },
  {
   "cell_type": "code",
   "execution_count": 0,
   "metadata": {
    "application/vnd.databricks.v1+cell": {
     "cellMetadata": {},
     "inputWidgets": {},
     "nuid": "44c8a1a5-897c-45f8-b1cc-941e35d20e66",
     "showTitle": false,
     "title": ""
    }
   },
   "outputs": [],
   "source": [
    "%run ../Includes/Classroom-Setup"
   ]
  },
  {
   "cell_type": "markdown",
   "metadata": {
    "application/vnd.databricks.v1+cell": {
     "cellMetadata": {},
     "inputWidgets": {},
     "nuid": "66335926-6e56-4ef5-b87e-39c473a0b434",
     "showTitle": false,
     "title": ""
    }
   },
   "source": [
    "Below, we will load a YouTube video of a piano performance.\n",
    "\n",
    "`streams.filter` method provides flexible ways for us to filter based on the type of stream that we're interested in. Refer to [documentation here](https://pytube.io/en/latest/user/streams.html#filtering-by-streaming-method)."
   ]
  },
  {
   "cell_type": "code",
   "execution_count": 0,
   "metadata": {
    "application/vnd.databricks.v1+cell": {
     "cellMetadata": {},
     "inputWidgets": {},
     "nuid": "c532fcd8-d38a-43e7-bf08-eac738390fab",
     "showTitle": false,
     "title": ""
    }
   },
   "outputs": [],
   "source": [
    "from pytube import YouTube\n",
    "\n",
    "# a video of piano performance \n",
    "youtube_url = \"https://www.youtube.com/watch?v=-xKM3mGt2pE\"\n",
    "yt = YouTube(youtube_url)\n",
    "\n",
    "streams = yt.streams.filter(file_extension=\"mp4\")\n",
    "print(streams)"
   ]
  },
  {
   "cell_type": "markdown",
   "metadata": {
    "application/vnd.databricks.v1+cell": {
     "cellMetadata": {},
     "inputWidgets": {},
     "nuid": "605584b8-d62c-452d-b396-535f5b055eb4",
     "showTitle": false,
     "title": ""
    }
   },
   "source": [
    "Let's say that we only are interested in the first part of the video stream. We will download only the third portion and save it to our directory."
   ]
  },
  {
   "cell_type": "code",
   "execution_count": 0,
   "metadata": {
    "application/vnd.databricks.v1+cell": {
     "cellMetadata": {},
     "inputWidgets": {},
     "nuid": "a12c2e0a-c48a-42ee-8a1f-d2652ec5d490",
     "showTitle": false,
     "title": ""
    }
   },
   "outputs": [],
   "source": [
    "import os\n",
    "\n",
    "output_dir = os.path.join(DA.paths.working_dir, \"video\")\n",
    "file_path = streams[0].download(output_path=output_dir)\n",
    "file_path"
   ]
  },
  {
   "cell_type": "markdown",
   "metadata": {
    "application/vnd.databricks.v1+cell": {
     "cellMetadata": {},
     "inputWidgets": {},
     "nuid": "b77851c3-57c0-4657-9a75-a3d7e29d51a4",
     "showTitle": false,
     "title": ""
    }
   },
   "source": [
    "Recall from the presentation that audio data is often split into chunks. The same applies to videos as well. Below we will split the video into different frames. \n",
    "\n",
    "`frame_rate` is a common term in video processing to refer to # of pictures taken per second. For audio-only data, it's called `sampling_rate`.\n",
    "\n",
    "`VideoReader` helps us to access frames directly from the video files. Refer to [documentation here](https://github.com/dmlc/decord#videoreader)."
   ]
  },
  {
   "cell_type": "code",
   "execution_count": 0,
   "metadata": {
    "application/vnd.databricks.v1+cell": {
     "cellMetadata": {},
     "inputWidgets": {},
     "nuid": "ff14cdca-4564-46cd-bf8f-d1ec3847d9b6",
     "showTitle": false,
     "title": ""
    }
   },
   "outputs": [],
   "source": [
    "from decord import VideoReader, cpu\n",
    "import torch\n",
    "import numpy as np\n",
    "from huggingface_hub import hf_hub_download\n",
    "\n",
    "np.random.seed(42)\n",
    "\n",
    "# this does in-memory decoding of the video \n",
    "videoreader = VideoReader(file_path, num_threads=1, ctx=cpu(0))\n",
    "print(\"Length of video frames: \", len(videoreader))\n",
    "\n",
    "def sample_frame_indices(clip_len, frame_sample_rate, seg_len):\n",
    "    \n",
    "    # Since each frame length is 4 seconds, we need to find the total frame length if we want `clip_len` frames \n",
    "    converted_len = int(clip_len * frame_sample_rate)\n",
    "\n",
    "    # Get a random frame to end on \n",
    "    end_idx = np.random.randint(converted_len, seg_len)\n",
    "    # Find the starting frame, if the frame has length of clip_len\n",
    "    start_idx = end_idx - converted_len\n",
    "\n",
    "    # np.linspace returns evenly spaced numbers over a specified interval \n",
    "    indices = np.linspace(start_idx, end_idx, num=clip_len)\n",
    "    indices = np.clip(indices, start_idx, end_idx - 1).astype(np.int64)\n",
    "    return indices"
   ]
  },
  {
   "cell_type": "markdown",
   "metadata": {
    "application/vnd.databricks.v1+cell": {
     "cellMetadata": {},
     "inputWidgets": {},
     "nuid": "0e669251-3b38-4419-8fbd-6e3ac6c160fa",
     "showTitle": false,
     "title": ""
    }
   },
   "source": [
    "## Question 1\n",
    "\n",
    "We want to retrieve 32 frames in total, with 4 seconds each. "
   ]
  },
  {
   "cell_type": "code",
   "execution_count": 0,
   "metadata": {
    "application/vnd.databricks.v1+cell": {
     "cellMetadata": {},
     "inputWidgets": {},
     "nuid": "bf967389-5fca-430a-9e7f-17e764e6e95a",
     "showTitle": false,
     "title": ""
    }
   },
   "outputs": [],
   "source": [
    "# TODO \n",
    "indices = sample_frame_indices(clip_len= <FILL_IN>, \n",
    "                               frame_sample_rate=<FILL_IN>, \n",
    "                               seg_len=len(videoreader))\n",
    "print(\"Number of frames we will retrieve: \", len(indices))\n",
    "\n",
    "# `get_batch` allows us to get multiple frames at once \n",
    "video = videoreader.get_batch(indices).asnumpy()"
   ]
  },
  {
   "cell_type": "code",
   "execution_count": 0,
   "metadata": {
    "application/vnd.databricks.v1+cell": {
     "cellMetadata": {},
     "inputWidgets": {},
     "nuid": "cd2cb436-a473-411c-9fe4-ea908343d0a5",
     "showTitle": false,
     "title": ""
    }
   },
   "outputs": [],
   "source": [
    "# Test your answer. DO NOT MODIFY THIS CELL.\n",
    "\n",
    "dbTestQuestion4_1(indices)"
   ]
  },
  {
   "cell_type": "markdown",
   "metadata": {
    "application/vnd.databricks.v1+cell": {
     "cellMetadata": {},
     "inputWidgets": {},
     "nuid": "4eac561b-8f8c-4038-ada7-6440b6fd645d",
     "showTitle": false,
     "title": ""
    }
   },
   "source": [
    "We will now randomly pick a video frame to inspect."
   ]
  },
  {
   "cell_type": "code",
   "execution_count": 0,
   "metadata": {
    "application/vnd.databricks.v1+cell": {
     "cellMetadata": {},
     "inputWidgets": {},
     "nuid": "39f7d21e-ea56-4033-afd8-0e6080845b22",
     "showTitle": false,
     "title": ""
    }
   },
   "outputs": [],
   "source": [
    "from PIL import Image\n",
    "\n",
    "Image.fromarray(video[8])"
   ]
  },
  {
   "cell_type": "markdown",
   "metadata": {
    "application/vnd.databricks.v1+cell": {
     "cellMetadata": {},
     "inputWidgets": {},
     "nuid": "e57e63ba-56a7-44df-9d27-9be565821538",
     "showTitle": false,
     "title": ""
    }
   },
   "source": [
    "## Question 2\n",
    "\n",
    "We will now pass in XCLIP model to process our video frames and as our model to assign probabilities to text descriptions to the model. \n",
    "\n",
    "The model we will use is `microsoft/xclip-base-patch16-zero-shot`."
   ]
  },
  {
   "cell_type": "code",
   "execution_count": 0,
   "metadata": {
    "application/vnd.databricks.v1+cell": {
     "cellMetadata": {},
     "inputWidgets": {},
     "nuid": "25060447-e95d-4256-bab7-d1974577244f",
     "showTitle": false,
     "title": ""
    }
   },
   "outputs": [],
   "source": [
    "# TODO \n",
    "\n",
    "from transformers import XCLIPProcessor, XCLIPModel\n",
    "\n",
    "model_name = <FILL_IN>\n",
    "processor = XCLIPProcessor.from_pretrained(model_name)\n",
    "model = XCLIPModel.from_pretrained(model_name)"
   ]
  },
  {
   "cell_type": "code",
   "execution_count": 0,
   "metadata": {
    "application/vnd.databricks.v1+cell": {
     "cellMetadata": {},
     "inputWidgets": {},
     "nuid": "3a1d908b-a863-4de8-a028-d994fcde32c8",
     "showTitle": false,
     "title": ""
    }
   },
   "outputs": [],
   "source": [
    "# Test your answer. DO NOT MODIFY THIS CELL.\n",
    "\n",
    "dbTestQuestion4_2(model_name)"
   ]
  },
  {
   "cell_type": "markdown",
   "metadata": {
    "application/vnd.databricks.v1+cell": {
     "cellMetadata": {},
     "inputWidgets": {},
     "nuid": "31e8050a-bd16-4fd4-92a6-ea97166946a7",
     "showTitle": false,
     "title": ""
    }
   },
   "source": [
    "## Question 3 \n",
    "\n",
    "We will provide a list of three text descriptions and ask the model to assign probabilities to each of them. \n",
    "\n",
    "Let's use `text_description_list = [\"play piano\", \"eat sandwich\", \"play football\"]` \n",
    "\n",
    "Hint:  for the `videos` argument: recall that we have a list of video frames we have processed in the cells above. "
   ]
  },
  {
   "cell_type": "code",
   "execution_count": 0,
   "metadata": {
    "application/vnd.databricks.v1+cell": {
     "cellMetadata": {},
     "inputWidgets": {},
     "nuid": "406f4f3f-9d23-43d3-9028-3176ea330d05",
     "showTitle": false,
     "title": ""
    }
   },
   "outputs": [],
   "source": [
    "# TODO \n",
    "import torch\n",
    "\n",
    "text_description_list = <FILL_IN>\n",
    "\n",
    "inputs = processor(text=<FILL_IN>, \n",
    "                   videos=<FILL_IN>, \n",
    "                   return_tensors=\"pt\", \n",
    "                   padding=True)\n",
    "\n",
    "# forward pass\n",
    "# we are not going to train the model, hence we specify .no_grad()\n",
    "with torch.no_grad():\n",
    "    outputs = model(**inputs)\n",
    "\n",
    "# we will get probabilities per video frame and calculate the softmax \n",
    "video_probs = outputs.logits_per_video.softmax(dim=1)\n",
    "print(dict(zip(text_description_list, video_probs[0])))"
   ]
  },
  {
   "cell_type": "code",
   "execution_count": 0,
   "metadata": {
    "application/vnd.databricks.v1+cell": {
     "cellMetadata": {},
     "inputWidgets": {},
     "nuid": "662cbc55-82a5-4f50-a9e6-1b7875862457",
     "showTitle": false,
     "title": ""
    }
   },
   "outputs": [],
   "source": [
    "# Test your answer. DO NOT MODIFY THIS CELL.\n",
    "\n",
    "dbTestQuestion4_3(text_description_list, video_probs)"
   ]
  },
  {
   "cell_type": "markdown",
   "metadata": {
    "application/vnd.databricks.v1+cell": {
     "cellMetadata": {},
     "inputWidgets": {},
     "nuid": "45220103-d20d-43fe-8cab-54b036c06bf9",
     "showTitle": false,
     "title": ""
    }
   },
   "source": [
    "Which text description has the highest probability? In the following optional section, you can play around with OpenAI's CLIP and Whisper API to generate image from text and get audio transcription."
   ]
  },
  {
   "cell_type": "markdown",
   "metadata": {
    "application/vnd.databricks.v1+cell": {
     "cellMetadata": {},
     "inputWidgets": {},
     "nuid": "3461b1ee-2cea-46a8-b0e4-ac97887dc183",
     "showTitle": false,
     "title": ""
    }
   },
   "source": [
    "## OPTIONAL (Non-graded): Using OpenAI's CLIP and Whisper\n",
    "\n",
    "\n",
    "For this section to work, you need to generate an Open AI key. \n",
    "\n",
    "Steps:\n",
    "1. You need to [create an account](https://platform.openai.com/signup) on OpenAI. \n",
    "2. Generate an OpenAI [API key here](https://platform.openai.com/account/api-keys). \n",
    "\n",
    "Note: OpenAI does not have a free option, but it gives you $5 as credit. Once you have exhausted your $5 credit, you will need to add your payment method. You will be [charged per token usage](https://openai.com/pricing). **IMPORTANT**: It's crucial that you keep your OpenAI API key to yourself. If others have access to your OpenAI key, they will be able to charge their usage to your account! "
   ]
  },
  {
   "cell_type": "code",
   "execution_count": 0,
   "metadata": {
    "application/vnd.databricks.v1+cell": {
     "cellMetadata": {},
     "inputWidgets": {},
     "nuid": "3804bccf-1fc1-4d1b-97bf-d604c16a1510",
     "showTitle": false,
     "title": ""
    }
   },
   "outputs": [],
   "source": [
    "# TODO\n",
    "import os\n",
    "\n",
    "os.environ[\"OPENAI_API_KEY\"] = \"<FILL IN>\""
   ]
  },
  {
   "cell_type": "code",
   "execution_count": 0,
   "metadata": {
    "application/vnd.databricks.v1+cell": {
     "cellMetadata": {},
     "inputWidgets": {},
     "nuid": "8fb4db98-269a-43c9-bbc0-4e4ca9307a2e",
     "showTitle": false,
     "title": ""
    }
   },
   "outputs": [],
   "source": [
    "import openai\n",
    "\n",
    "openai.api_key = os.environ[\"OPENAI_API_KEY\"]"
   ]
  },
  {
   "cell_type": "markdown",
   "metadata": {
    "application/vnd.databricks.v1+cell": {
     "cellMetadata": {},
     "inputWidgets": {},
     "nuid": "a90a9f67-6b3f-498a-ad4f-1eb639d65c76",
     "showTitle": false,
     "title": ""
    }
   },
   "source": [
    "###  Using CLIP \n",
    "\n",
    "OpenAI's CLIP can help you generate images from provided text. "
   ]
  },
  {
   "cell_type": "code",
   "execution_count": 0,
   "metadata": {
    "application/vnd.databricks.v1+cell": {
     "cellMetadata": {},
     "inputWidgets": {},
     "nuid": "201571e6-d582-4870-9be8-7fe795302616",
     "showTitle": false,
     "title": ""
    }
   },
   "outputs": [],
   "source": [
    "image_resp = openai.Image.create(prompt=\"robots play water balloons, modern painting\", \n",
    "                                 n=1, \n",
    "                                 size=\"512x512\")\n",
    "image_resp\n",
    "displayHTML(image_resp[\"data\"][0][\"url\"])"
   ]
  },
  {
   "cell_type": "markdown",
   "metadata": {
    "application/vnd.databricks.v1+cell": {
     "cellMetadata": {},
     "inputWidgets": {},
     "nuid": "ab747108-42d2-469c-a124-f6da6017be97",
     "showTitle": false,
     "title": ""
    }
   },
   "source": [
    "You can also use it to assign text caption probabilities based on provided image. "
   ]
  },
  {
   "cell_type": "code",
   "execution_count": 0,
   "metadata": {
    "application/vnd.databricks.v1+cell": {
     "cellMetadata": {},
     "inputWidgets": {},
     "nuid": "ca9c658f-344e-4e93-95ca-38886db098c0",
     "showTitle": false,
     "title": ""
    }
   },
   "outputs": [],
   "source": [
    "from PIL import Image\n",
    "import requests\n",
    "from transformers import CLIPProcessor, CLIPModel\n",
    "\n",
    "clip_model = CLIPModel.from_pretrained(\"openai/clip-vit-base-patch32\")\n",
    "clip_processor = CLIPProcessor.from_pretrained(\"openai/clip-vit-base-patch32\")\n",
    "\n",
    "url = \"http://images.cocodataset.org/val2017/000000039769.jpg\"\n",
    "cat_image = Image.open(requests.get(url, stream=True).raw)\n",
    "display(cat_image)"
   ]
  },
  {
   "cell_type": "code",
   "execution_count": 0,
   "metadata": {
    "application/vnd.databricks.v1+cell": {
     "cellMetadata": {},
     "inputWidgets": {},
     "nuid": "8477912e-5cc0-4014-b013-a0763b096648",
     "showTitle": false,
     "title": ""
    }
   },
   "outputs": [],
   "source": [
    "caption_list = [\"eating pasta\", \"cats sleeping\"]\n",
    "\n",
    "inputs = clip_processor(text=caption_list, \n",
    "                        images=cat_image, \n",
    "                        return_tensors=\"pt\", \n",
    "                        padding=True)\n",
    "\n",
    "clip_outputs = clip_model(**inputs)\n",
    "# This calculates image-text similarity score \n",
    "clip_logits_per_image = clip_outputs.logits_per_image \n",
    "\n",
    "# Use softmax to get caption probabilities \n",
    "image_probs = clip_logits_per_image.softmax(dim=1)\n",
    "print(dict(zip(caption_list, image_probs[0])))"
   ]
  },
  {
   "cell_type": "markdown",
   "metadata": {
    "application/vnd.databricks.v1+cell": {
     "cellMetadata": {},
     "inputWidgets": {},
     "nuid": "6c129030-109d-432d-ae8f-bb1714ee50d5",
     "showTitle": false,
     "title": ""
    }
   },
   "source": [
    "You can see that the probability of the caption with \"cats\" is much higher than that of \"pasta\"."
   ]
  },
  {
   "cell_type": "markdown",
   "metadata": {
    "application/vnd.databricks.v1+cell": {
     "cellMetadata": {},
     "inputWidgets": {},
     "nuid": "d1f2e1bd-ca1b-4844-b097-7f1b69d86709",
     "showTitle": false,
     "title": ""
    }
   },
   "source": [
    "### Using Whisper\n",
    "\n",
    "OpenAI's Whisper Automatic Speech Recognition system is a simple and powerful tool for transcribing audio files. \n",
    "\n",
    "If you'd like to browse interesting Whisper applications that people have been exploring, visit [this link](https://github.com/openai/whisper/discussions/categories/show-and-tell), notably [this web UI application](https://huggingface.co/spaces/aadnk/whisper-webui) and [this transcription + speaker identification discussion](https://github.com/openai/whisper/discussions/264)."
   ]
  },
  {
   "cell_type": "code",
   "execution_count": 0,
   "metadata": {
    "application/vnd.databricks.v1+cell": {
     "cellMetadata": {},
     "inputWidgets": {},
     "nuid": "c2a5c6cb-ffdd-438f-b029-bce261f181ca",
     "showTitle": false,
     "title": ""
    }
   },
   "outputs": [],
   "source": [
    "import requests\n",
    "\n",
    "# URL of the sample audio file (in this case, a simple English sentence)\n",
    "audio_url = \"https://audio-samples.github.io/samples/mp3/blizzard_primed/sample-1.mp3\"\n",
    "\n",
    "# Download the audio file\n",
    "response = requests.get(audio_url)\n",
    "\n",
    "audio_directory = os.path.join(DA.paths.working_dir, \"sample_audio.mp3\")\n",
    "# Save the audio file to disk\n",
    "with open(audio_directory, \"wb\") as audio_file:\n",
    "    audio_file.write(response.content) \n",
    "\n",
    "print(\"Sample audio file 'sample_audio.wav' downloaded.\")"
   ]
  },
  {
   "cell_type": "code",
   "execution_count": 0,
   "metadata": {
    "application/vnd.databricks.v1+cell": {
     "cellMetadata": {},
     "inputWidgets": {},
     "nuid": "93c341e1-f865-4046-b6cd-8d95eddcfb51",
     "showTitle": false,
     "title": ""
    }
   },
   "outputs": [],
   "source": [
    "audio_file = open(audio_directory, \"rb\")\n",
    "transcript = openai.Audio.transcribe(\"whisper-1\", audio_file)\n",
    "print(transcript)"
   ]
  },
  {
   "cell_type": "markdown",
   "metadata": {
    "application/vnd.databricks.v1+cell": {
     "cellMetadata": {},
     "inputWidgets": {},
     "nuid": "c3b90e45-0309-4e27-ab04-c48c573ccd2b",
     "showTitle": false,
     "title": ""
    }
   },
   "source": [
    "&copy; 2023 Databricks, Inc. All rights reserved.<br/>\n",
    "Apache, Apache Spark, Spark and the Spark logo are trademarks of the <a href=\"https://www.apache.org/\">Apache Software Foundation</a>.<br/>\n",
    "<br/>\n",
    "<a href=\"https://databricks.com/privacy-policy\">Privacy Policy</a> | <a href=\"https://databricks.com/terms-of-use\">Terms of Use</a> | <a href=\"https://help.databricks.com/\">Support</a>"
   ]
  }
 ],
 "metadata": {
  "application/vnd.databricks.v1+notebook": {
   "dashboards": [],
   "language": "python",
   "notebookMetadata": {},
   "notebookName": "LLM 04L - Zero-Shot Video Classification with X-CLIP",
   "widgets": {}
  }
 },
 "nbformat": 4,
 "nbformat_minor": 0
}
