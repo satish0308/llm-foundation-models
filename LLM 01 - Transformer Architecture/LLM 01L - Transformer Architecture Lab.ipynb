{
 "cells": [
  {
   "cell_type": "markdown",
   "metadata": {
    "application/vnd.databricks.v1+cell": {
     "cellMetadata": {},
     "inputWidgets": {},
     "nuid": "27a94cf0-aa69-4ff0-bc63-92a224b38c16",
     "showTitle": false,
     "title": ""
    }
   },
   "source": [
    "\n",
    "<div style=\"text-align: center; line-height: 0; padding-top: 9px;\">\n",
    "  <img src=\"https://databricks.com/wp-content/uploads/2018/03/db-academy-rgb-1200px.png\" alt=\"Databricks Learning\" style=\"width: 600px\">\n",
    "</div>"
   ]
  },
  {
   "cell_type": "markdown",
   "metadata": {
    "application/vnd.databricks.v1+cell": {
     "cellMetadata": {},
     "inputWidgets": {},
     "nuid": "abe869c3-de68-41ae-bf8f-5ac275984706",
     "showTitle": false,
     "title": ""
    }
   },
   "source": [
    "# Lab: Diving into the Transformer - Utilizing embeddings from transformers\n",
    "\n",
    "In this lab, we will delve into the workings of the Transformer's encoder. We will build the components needed to create our encoder-based model and investigate the embeddings it produces. You will then be asked questions related to these embeddings, including comparisons, distance measurements, and the utilization of masked language modeling (MLM).\n",
    "\n",
    "### ![Dolly](https://files.training.databricks.com/images/llm/dolly_small.png) Learning Objectives\n",
    "1. Develop an encoder from scratch\n",
    "2. Investigating word embeddings (from our untrained models, and BERT)\n",
    "4. Gain practice in Masked Language Modeling (MLM)"
   ]
  },
  {
   "cell_type": "markdown",
   "metadata": {
    "application/vnd.databricks.v1+cell": {
     "cellMetadata": {},
     "inputWidgets": {},
     "nuid": "1dfcc1cc-b34c-440d-92cf-06686723658e",
     "showTitle": false,
     "title": ""
    }
   },
   "source": [
    "## Classroom Setup"
   ]
  },
  {
   "cell_type": "code",
   "execution_count": 0,
   "metadata": {
    "application/vnd.databricks.v1+cell": {
     "cellMetadata": {},
     "inputWidgets": {},
     "nuid": "25215fda-48e0-4419-a839-502be432fedf",
     "showTitle": false,
     "title": ""
    }
   },
   "outputs": [],
   "source": [
    "%run ../Includes/Classroom-Setup"
   ]
  },
  {
   "cell_type": "code",
   "execution_count": 0,
   "metadata": {
    "application/vnd.databricks.v1+cell": {
     "cellMetadata": {},
     "inputWidgets": {},
     "nuid": "3ec6a3d7-eb67-4cc3-bfe5-87c256233948",
     "showTitle": false,
     "title": ""
    }
   },
   "outputs": [],
   "source": [
    "# Import necessary libraries\n",
    "import torch\n",
    "import torch.nn as nn\n",
    "import torch.nn.functional as F\n",
    "import math"
   ]
  },
  {
   "cell_type": "markdown",
   "metadata": {
    "application/vnd.databricks.v1+cell": {
     "cellMetadata": {},
     "inputWidgets": {},
     "nuid": "f2101be4-360c-4a29-b02a-0af5524c266b",
     "showTitle": false,
     "title": ""
    }
   },
   "source": [
    "# Section 1 - Building our own Encoder Transformer"
   ]
  },
  {
   "cell_type": "markdown",
   "metadata": {
    "application/vnd.databricks.v1+cell": {
     "cellMetadata": {},
     "inputWidgets": {},
     "nuid": "7da36c99-6f34-4047-b04f-320650d56690",
     "showTitle": false,
     "title": ""
    }
   },
   "source": [
    "### Define the Feed Forward Network\n",
    "\n",
    "We begin by defining the FeedForward class, which represents a simple feed-forward neural network with two linear layers separated by a ReLU activation function, and a dropout layer for regularization."
   ]
  },
  {
   "cell_type": "code",
   "execution_count": 0,
   "metadata": {
    "application/vnd.databricks.v1+cell": {
     "cellMetadata": {},
     "inputWidgets": {},
     "nuid": "d6d1165a-4162-43c3-8773-ab856dae420c",
     "showTitle": false,
     "title": ""
    }
   },
   "outputs": [],
   "source": [
    "class FeedForward(nn.Module):\n",
    "    def __init__(self, d_model, hidden_dim, dropout = 0.1):\n",
    "        super(FeedForward, self).__init__()\n",
    "        self.fc1 = nn.Linear(d_model, hidden_dim)\n",
    "        self.fc2 = nn.Linear(hidden_dim, d_model)\n",
    "        self.dropout = nn.Dropout(dropout)\n",
    "\n",
    "    def forward(self, x):\n",
    "        out = self.fc1(x)\n",
    "        out = F.relu(out)\n",
    "        out = self.dropout(out)\n",
    "        out = self.fc2(out)\n",
    "        return out\n"
   ]
  },
  {
   "cell_type": "markdown",
   "metadata": {
    "application/vnd.databricks.v1+cell": {
     "cellMetadata": {},
     "inputWidgets": {},
     "nuid": "2c0fc480-d0ab-4352-b4e0-28649e237f8c",
     "showTitle": false,
     "title": ""
    }
   },
   "source": [
    "### Define the Transformer Encoder Block\n",
    "\n",
    "The TransformerEncoderBlock class represents a single block of the transformer encoder, which consists of a multi-head self-attention layer and a feed-forward neural network, with layer normalization and residual connections applied to the outputs of each layer."
   ]
  },
  {
   "cell_type": "code",
   "execution_count": 0,
   "metadata": {
    "application/vnd.databricks.v1+cell": {
     "cellMetadata": {},
     "inputWidgets": {},
     "nuid": "f018ea7d-3669-4dbf-8aeb-70312a12c896",
     "showTitle": false,
     "title": ""
    }
   },
   "outputs": [],
   "source": [
    "class TransformerEncoderBlock(nn.Module):\n",
    "    def __init__(self, d_model, num_heads, conv_hidden_dim, dropout=0.1):\n",
    "        super(TransformerEncoderBlock, self).__init__()\n",
    "        self.attention = nn.MultiheadAttention(d_model, num_heads, dropout=dropout)\n",
    "        self.norm1 = nn.LayerNorm(d_model)\n",
    "        self.norm2 = nn.LayerNorm(d_model)\n",
    "        self.feed_forward = FeedForward(d_model, conv_hidden_dim, dropout)\n",
    "        self.dropout = nn.Dropout(dropout)\n",
    "\n",
    "    def forward(self, x, mask=None):\n",
    "        # Multi-Head Attention\n",
    "        attn_output, _ = self.attention(x, x, x, attn_mask=mask)\n",
    "        x = x + self.dropout(attn_output)\n",
    "        x = self.norm1(x)\n",
    "\n",
    "        # Feed Forward Network\n",
    "        ff_output = self.feed_forward(x)\n",
    "        x = x + self.dropout(ff_output)\n",
    "        x = self.norm2(x)\n",
    "\n",
    "        return x\n"
   ]
  },
  {
   "cell_type": "markdown",
   "metadata": {
    "application/vnd.databricks.v1+cell": {
     "cellMetadata": {},
     "inputWidgets": {},
     "nuid": "6d6a781b-d178-4aec-bd9f-7519c8cd6e6a",
     "showTitle": false,
     "title": ""
    }
   },
   "source": [
    "### Define the Transformer Encoder\n",
    "\n",
    "The TransformerEncoder class represents the complete transformer encoder, which consists of a word embedding layer, a positional encoding layer, and a series of transformer encoder blocks."
   ]
  },
  {
   "cell_type": "code",
   "execution_count": 0,
   "metadata": {
    "application/vnd.databricks.v1+cell": {
     "cellMetadata": {},
     "inputWidgets": {},
     "nuid": "84b589b2-5ee4-42bc-900d-a7f1720a8c5a",
     "showTitle": false,
     "title": ""
    }
   },
   "outputs": [],
   "source": [
    "class TransformerEncoder(nn.Module):\n",
    "    def __init__(self, vocab_size, d_model, num_heads, conv_hidden_dim, num_layers, dropout=0.1):\n",
    "        super(TransformerEncoder, self).__init__()\n",
    "        self.word_embedding = nn.Embedding(vocab_size, d_model)\n",
    "        self.position_embedding = nn.Embedding(1000, d_model)  # Assuming a maximum sequence length of 1000\n",
    "        self.layers = nn.ModuleList(\n",
    "            [\n",
    "                TransformerEncoderBlock(d_model, num_heads, conv_hidden_dim, dropout)\n",
    "                for _ in range(num_layers)\n",
    "            ]\n",
    "        )\n",
    "\n",
    "    def forward(self, x, mask=None):\n",
    "        seq_length = x.shape[1]\n",
    "        positions = torch.arange(0, seq_length).expand(x.shape[0], seq_length).to(x.device)\n",
    "        out = self.word_embedding(x) + self.position_embedding(positions)\n",
    "\n",
    "        for layer in self.layers:\n",
    "            out = layer(out, mask)\n",
    "\n",
    "        return out\n"
   ]
  },
  {
   "cell_type": "markdown",
   "metadata": {
    "application/vnd.databricks.v1+cell": {
     "cellMetadata": {},
     "inputWidgets": {},
     "nuid": "78b9cba1-5846-4c72-8821-5c358085e318",
     "showTitle": false,
     "title": ""
    }
   },
   "source": [
    "### Instantiate the Model and Perform a Forward Pass\n",
    "\n",
    "We now instantiate the model with a specific set of hyperparameters, generate some random input data, and perform a forward pass through the model."
   ]
  },
  {
   "cell_type": "code",
   "execution_count": 0,
   "metadata": {
    "application/vnd.databricks.v1+cell": {
     "cellMetadata": {},
     "inputWidgets": {},
     "nuid": "a0d1c25f-5a39-4b4e-9ed0-64b12269bf87",
     "showTitle": false,
     "title": ""
    }
   },
   "outputs": [],
   "source": [
    "# Assume the following hyperparameters\n",
    "vocab_size = 5000  # size of the vocabulary\n",
    "d_model = 512  # dimension of the word embedding\n",
    "num_heads = 8  # number of attention heads\n",
    "conv_hidden_dim = 2048  # dimension of the hidden layer in the feed-forward network\n",
    "num_layers = 6  # number of Transformer Encoder blocks\n",
    "dropout = 0.1  # dropout rate\n",
    "\n",
    "# Instantiate the model\n",
    "model = TransformerEncoder(vocab_size, d_model, num_heads, conv_hidden_dim, num_layers, dropout)\n",
    "\n",
    "# Generate some example input\n",
    "input_tensor = torch.randint(0, vocab_size, (1, 20))  # batch size of 1 and sequence length of 20\n",
    "\n",
    "# Forward pass through the model\n",
    "output = model(input_tensor, mask=None)\n",
    "\n",
    "\n",
    "\n",
    "print(f\"The model has {sum(p.numel() for p in model.parameters() if p.requires_grad):,} trainable parameters\")"
   ]
  },
  {
   "cell_type": "markdown",
   "metadata": {
    "application/vnd.databricks.v1+cell": {
     "cellMetadata": {},
     "inputWidgets": {},
     "nuid": "0e9dbcc8-f339-4b7c-8d75-24b527468b4b",
     "showTitle": false,
     "title": ""
    }
   },
   "source": [
    "### Investigate Word Embeddings\n",
    "\n",
    "We now generate some random input data and perform a forward pass through the model to obtain the embeddings for each word in the input."
   ]
  },
  {
   "cell_type": "code",
   "execution_count": 0,
   "metadata": {
    "application/vnd.databricks.v1+cell": {
     "cellMetadata": {},
     "inputWidgets": {},
     "nuid": "8d010d2a-4290-4408-b9ea-e7f59e594705",
     "showTitle": false,
     "title": ""
    }
   },
   "outputs": [],
   "source": [
    "# Generate some example input\n",
    "input_tensor = torch.randint(0, vocab_size, (1, 5))  # batch size of 1 and sequence length of 5\n",
    "\n",
    "# Forward pass through the model\n",
    "embeddings = model(input_tensor, mask=None)\n",
    "\n",
    "# The `embeddings` tensor now contains the contextualized embeddings for each word in the input sequence\n",
    "print(embeddings)\n"
   ]
  },
  {
   "cell_type": "markdown",
   "metadata": {
    "application/vnd.databricks.v1+cell": {
     "cellMetadata": {},
     "inputWidgets": {},
     "nuid": "0a592772-8ad7-4fe6-bf09-7501f4d2bb03",
     "showTitle": false,
     "title": ""
    }
   },
   "source": [
    "### Define Vocabulary and Word-to-ID Mapping\n",
    "\n",
    "To interpret the input and output of our model, we define a vocabulary and a mapping from words to their corresponding IDs."
   ]
  },
  {
   "cell_type": "code",
   "execution_count": 0,
   "metadata": {
    "application/vnd.databricks.v1+cell": {
     "cellMetadata": {},
     "inputWidgets": {},
     "nuid": "f89c30f2-feec-4260-b158-2ec3a0c4fd45",
     "showTitle": false,
     "title": ""
    }
   },
   "outputs": [],
   "source": [
    "# Let's assume the following is our vocabulary\n",
    "vocabulary = [\n",
    "    \"[PAD]\", \"[UNK]\", \"[CLS]\", \"[SEP]\", \"[MASK]\", \n",
    "    \"the\", \"a\", \"an\", \n",
    "    \"cat\", \"dog\", \"fish\", \"bird\", \"lion\", \"tiger\", \"elephant\", \"monkey\",\n",
    "    \"runs\", \"jumps\", \"sleeps\", \"eats\", \"drinks\",\n",
    "    \"fast\", \"slow\", \"big\", \"small\", \"red\", \"green\", \"blue\", \"yellow\",\n",
    "    \"is\", \"was\", \"will\", \"can\", \"has\", \"have\", \"had\", \"do\", \"does\",\n",
    "    \"I\", \"you\", \"he\", \"she\", \"it\", \"we\", \"they\",\n",
    "    \"my\", \"your\", \"his\", \"her\", \"its\", \"our\", \"their\"\n",
    "]\n",
    "\n",
    "# Create a word2id dictionary\n",
    "word2id = {word: idx for idx, word in enumerate(vocabulary)}\n",
    "\n",
    "# Print the dictionary\n",
    "print(word2id)\n"
   ]
  },
  {
   "cell_type": "markdown",
   "metadata": {
    "application/vnd.databricks.v1+cell": {
     "cellMetadata": {},
     "inputWidgets": {},
     "nuid": "36a97f58-5231-499f-be5d-3f98c5293932",
     "showTitle": false,
     "title": ""
    }
   },
   "source": [
    "### Measure Sentence Similarity\n",
    "\n",
    "We define a function to measure the cosine similarity between two sentences, which is done by averaging the embeddings of the words in each sentence and then calculating the cosine similarity between these average embeddings."
   ]
  },
  {
   "cell_type": "code",
   "execution_count": 0,
   "metadata": {
    "application/vnd.databricks.v1+cell": {
     "cellMetadata": {},
     "inputWidgets": {},
     "nuid": "df4e4089-171f-424c-b2dd-a69dec3a39f3",
     "showTitle": false,
     "title": ""
    }
   },
   "outputs": [],
   "source": [
    "# Define a simple function to calculate cosine similarity\n",
    "def cosine_similarity(vec1, vec2):\n",
    "    vec1 = vec1.squeeze()  # remove dimensions of size 1\n",
    "    vec2 = vec2.squeeze()  # remove dimensions of size 1\n",
    "    return torch.dot(vec1, vec2) / (torch.norm(vec1) * torch.norm(vec2))\n",
    "\n",
    "# Define a function to convert a sentence into embeddings\n",
    "def sentence_to_embeddings(sentence, model, word2id):\n",
    "    # Convert sentence to token ids\n",
    "    input_tensor = torch.tensor([word2id.get(word, word2id[\"[UNK]\"]) for word in sentence.split()], dtype=torch.long).unsqueeze(0)\n",
    "    embeddings = model(input_tensor, mask=None)\n",
    "    return embeddings\n",
    "\n",
    "# Define a function to compute the similarity between two sentences\n",
    "def sentence_similarity(sentence1, sentence2, model, word2id):\n",
    "    embeddings1 = sentence_to_embeddings(sentence1, model, word2id)\n",
    "    embeddings2 = sentence_to_embeddings(sentence2, model, word2id)\n",
    "\n",
    "    # Compute the average embeddings of each sentence\n",
    "    avg_embedding1 = torch.mean(embeddings1, dim=1)\n",
    "    avg_embedding2 = torch.mean(embeddings2, dim=1)\n",
    "\n",
    "    # Compute and return the cosine similarity\n",
    "    return cosine_similarity(avg_embedding1, avg_embedding2)\n",
    "\n",
    "# Now we can compute the similarity between two sentences\n",
    "sentence1 = \"the cat has a blue fish\"\n",
    "sentence2 = \"my sister's dog sleeps\"\n",
    "# Compute the similarity\n",
    "similarity = sentence_similarity(sentence1, sentence2, model, word2id)\n",
    "\n",
    "# Extract the value from the tensor and convert it to a Python float\n",
    "similarity_score = similarity.item()\n",
    "\n",
    "# Print the result with a descriptive sentence\n",
    "print(f\"The cosine similarity between the sentences '{sentence1}' and '{sentence2}' is {similarity_score:.2f}.\")"
   ]
  },
  {
   "cell_type": "markdown",
   "metadata": {
    "application/vnd.databricks.v1+cell": {
     "cellMetadata": {},
     "inputWidgets": {},
     "nuid": "80b1f985-8f2a-4519-8052-e52364f09259",
     "showTitle": false,
     "title": ""
    }
   },
   "source": [
    "### Visualize Word Embeddings\n",
    "\n",
    "We define a function to visualize the embeddings of a set of words in 2D space, which is done by using PCA to reduce the dimensionality of the embeddings to 2 and then plotting them."
   ]
  },
  {
   "cell_type": "code",
   "execution_count": 0,
   "metadata": {
    "application/vnd.databricks.v1+cell": {
     "cellMetadata": {},
     "inputWidgets": {},
     "nuid": "a7dd72b4-7ee8-49f9-83ce-f66c24111094",
     "showTitle": false,
     "title": ""
    }
   },
   "outputs": [],
   "source": [
    "# Import necessary libraries\n",
    "import numpy as np\n",
    "from sklearn.decomposition import PCA\n",
    "import matplotlib.pyplot as plt\n",
    "\n",
    "# Define a list of words to plot\n",
    "words = [\n",
    "    # Animals\n",
    "    \"cat\", \"dog\", \"fish\", \"bird\", \"lion\", \"tiger\", \"elephant\", \"monkey\",\n",
    "    # Colors\n",
    "    \"red\", \"green\", \"blue\", \"yellow\", \"black\", \"white\", \"pink\", \"orange\",\n",
    "    # Verbs\n",
    "    \"run\", \"jump\", \"swim\", \"fly\", \"eat\", \"drink\", \"sleep\", \"play\"\n",
    "]\n",
    "# Create artificial embeddings for demonstration purposes\n",
    "embeddings = np.array([np.random.rand(512) for _ in words])  # 512 is the dimension of the embeddings\n",
    "\n",
    "# Use PCA to reduce the dimensionality of the embeddings to 2\n",
    "pca = PCA(n_components=2)\n",
    "embeddings_2d = pca.fit_transform(embeddings)\n",
    "\n",
    "# Plot the embeddings\n",
    "plt.figure(figsize=(8, 8))\n",
    "plt.scatter(embeddings_2d[:, 0], embeddings_2d[:, 1],s=500)\n",
    "for i, word in enumerate(words):\n",
    "    plt.annotate(word, xy=(embeddings_2d[i, 0], embeddings_2d[i, 1]))\n",
    "plt.show()\n",
    "\n"
   ]
  },
  {
   "cell_type": "markdown",
   "metadata": {
    "application/vnd.databricks.v1+cell": {
     "cellMetadata": {},
     "inputWidgets": {},
     "nuid": "78414706-7d30-4057-9424-2eb84a003829",
     "showTitle": false,
     "title": ""
    }
   },
   "source": [
    "### Compare with Pre-Trained BERT Embeddings\n",
    "\n",
    "We load a pre-trained BERT model, generate embeddings for a set of words, and visualize them in the same way as before."
   ]
  },
  {
   "cell_type": "code",
   "execution_count": 0,
   "metadata": {
    "application/vnd.databricks.v1+cell": {
     "cellMetadata": {},
     "inputWidgets": {},
     "nuid": "348236e7-581b-4a7b-9b1a-428fb8741666",
     "showTitle": false,
     "title": ""
    }
   },
   "outputs": [],
   "source": [
    "# Import necessary libraries\n",
    "from transformers import BertModel, BertTokenizer\n",
    "import torch\n",
    "import numpy as np\n",
    "from sklearn.decomposition import PCA\n",
    "import matplotlib.pyplot as plt\n",
    "\n",
    "# Load pre-trained BERT model and tokenizer\n",
    "model_name = \"bert-base-uncased\"\n",
    "model_bert = BertModel.from_pretrained(model_name, cache_dir=DA.paths.datasets+\"/models\")\n",
    "tokenizer = BertTokenizer.from_pretrained(model_name, cache_dir=DA.paths.datasets+\"/models\")\n",
    "\n",
    "# Define a list of words to plot\n",
    "words = [\n",
    "    # Animals\n",
    "    \"cat\", \"dog\", \"fish\", \"bird\", \"lion\", \"tiger\", \"elephant\", \"monkey\",\n",
    "    # Colors\n",
    "    \"red\", \"green\", \"blue\", \"yellow\", \"black\", \"white\", \"pink\", \"orange\",\n",
    "    # Verbs\n",
    "    \"run\", \"jump\", \"swim\", \"fly\", \"eat\", \"drink\", \"sleep\", \"play\"\n",
    "]\n",
    "# Get the embeddings of the words\n",
    "embeddings = []\n",
    "for word in words:\n",
    "    inputs = tokenizer(word, return_tensors=\"pt\")\n",
    "    with torch.no_grad():\n",
    "        outputs = model_bert(**inputs)\n",
    "    embeddings.append(outputs.last_hidden_state[0, 0, :].numpy())\n",
    "\n",
    "# Use PCA to reduce the dimensionality of the embeddings to 2\n",
    "pca = PCA(n_components=2)\n",
    "embeddings_2d = pca.fit_transform(embeddings)\n",
    "\n",
    "# Plot the embeddings\n",
    "plt.figure(figsize=(8, 8))\n",
    "plt.scatter(embeddings_2d[:, 0], embeddings_2d[:, 1],s=500)\n",
    "for i, word in enumerate(words):\n",
    "    plt.annotate(word, xy=(embeddings_2d[i, 0], embeddings_2d[i, 1]))\n",
    "plt.show()"
   ]
  },
  {
   "cell_type": "markdown",
   "metadata": {
    "application/vnd.databricks.v1+cell": {
     "cellMetadata": {},
     "inputWidgets": {},
     "nuid": "68e03ea1-2ceb-42d5-941d-5219ff32081f",
     "showTitle": false,
     "title": ""
    }
   },
   "source": [
    "# Section 1 - Questions\n",
    "\n",
    "Having built our transformer encoder and inspected the embeddings it produces, we can now explore some questions related to these embeddings.\n",
    "\n",
    "**Question 1:** \n",
    "How does changing different hyperparameters (e.g., the dimension of the word embeddings, the number of attention heads, the dimension of the hidden layer in the feed-forward network, the number of encoder blocks, and the dropout rate) affect the overall size of the model?"
   ]
  },
  {
   "cell_type": "code",
   "execution_count": 0,
   "metadata": {
    "application/vnd.databricks.v1+cell": {
     "cellMetadata": {},
     "inputWidgets": {},
     "nuid": "41bf5eb5-5c16-4c1c-9c6f-68fbced774d1",
     "showTitle": false,
     "title": ""
    }
   },
   "outputs": [],
   "source": [
    "def count_parameters(model):\n",
    "    return sum(p.numel() for p in model.parameters() if p.requires_grad)"
   ]
  },
  {
   "cell_type": "code",
   "execution_count": 0,
   "metadata": {
    "application/vnd.databricks.v1+cell": {
     "cellMetadata": {},
     "inputWidgets": {},
     "nuid": "24ee8cd1-03c0-4440-9af9-2f8ed9846bb7",
     "showTitle": false,
     "title": ""
    }
   },
   "outputs": [],
   "source": [
    "# TODO\n",
    "# Use different parameters to see the effects on the overall model size. \n",
    "# Create a Transformer Encoder with different hyperparameters\n",
    "new_model = TransformerEncoder(\"<FILL_IN>\")\n",
    "print(f\"The model has {count_parameters(new_model):,} trainable parameters, compared to the 21,986,304 of the original model\")"
   ]
  },
  {
   "cell_type": "code",
   "execution_count": 0,
   "metadata": {
    "application/vnd.databricks.v1+cell": {
     "cellMetadata": {},
     "inputWidgets": {},
     "nuid": "d479d95a-bbbf-4d6a-887c-9a76b4b27bd9",
     "showTitle": false,
     "title": ""
    }
   },
   "outputs": [],
   "source": [
    "# Test your answer. DO NOT MODIFY THIS CELL.\n",
    "\n",
    "dbTestQuestion1_1(new_model)"
   ]
  },
  {
   "cell_type": "markdown",
   "metadata": {
    "application/vnd.databricks.v1+cell": {
     "cellMetadata": {},
     "inputWidgets": {},
     "nuid": "11689e5d-a32e-4e32-9231-37a16520d5c5",
     "showTitle": false,
     "title": ""
    }
   },
   "source": [
    "**Question 2:** \n",
    "Visualize the embeddings of a different set of words. Try choosing a set of words that are related in some way, such as words related to a particular topic or words that are all of a certain type (e.g., all verbs or all nouns)."
   ]
  },
  {
   "cell_type": "code",
   "execution_count": 0,
   "metadata": {
    "application/vnd.databricks.v1+cell": {
     "cellMetadata": {},
     "inputWidgets": {},
     "nuid": "6b5098c9-6d8a-4892-82ea-b5f6b2cd78c1",
     "showTitle": false,
     "title": ""
    }
   },
   "outputs": [],
   "source": [
    "# TODO\n",
    "words = [\"<FILL_IN>\"]\n",
    "\n",
    "# Get the embeddings of the words\n",
    "embeddings = []\n",
    "for word in words:\n",
    "    inputs = tokenizer(word, return_tensors='pt')\n",
    "    with torch.no_grad():\n",
    "        outputs = <FILL_IN>\n",
    "    embeddings.append(outputs.last_hidden_state[0, 0, :].numpy())\n",
    "\n",
    "# Use PCA to reduce the dimensionality of the embeddings to 2\n",
    "pca = PCA(n_components=2)\n",
    "embeddings_2d = pca.fit_transform(embeddings)\n",
    "\n",
    "# Plot the embeddings\n",
    "plt.figure(figsize=(8, 8))\n",
    "plt.scatter(embeddings_2d[:, 0], embeddings_2d[:, 1],s=500)\n",
    "for i, word in enumerate(words):\n",
    "    plt.annotate(word, xy=(embeddings_2d[i, 0], embeddings_2d[i, 1]))\n",
    "plt.show()"
   ]
  },
  {
   "cell_type": "code",
   "execution_count": 0,
   "metadata": {
    "application/vnd.databricks.v1+cell": {
     "cellMetadata": {},
     "inputWidgets": {},
     "nuid": "0faad6fc-2dbc-47e0-8a1c-62ada3a2f91d",
     "showTitle": false,
     "title": ""
    }
   },
   "outputs": [],
   "source": [
    "# Test your answer. DO NOT MODIFY THIS CELL.\n",
    "\n",
    "dbTestQuestion1_2(words)"
   ]
  },
  {
   "cell_type": "markdown",
   "metadata": {
    "application/vnd.databricks.v1+cell": {
     "cellMetadata": {},
     "inputWidgets": {},
     "nuid": "0e6e2d59-3e8d-4084-ad06-ce3b232cd0cb",
     "showTitle": false,
     "title": ""
    }
   },
   "source": [
    "**Question 3:** \n",
    "Compute the cosine similarity between the embeddings of a sentence and its scrambled version. For example, compare the sentence \"the cat chased the dog\" with \"dog the chased cat the\". What do you observe?"
   ]
  },
  {
   "cell_type": "code",
   "execution_count": 0,
   "metadata": {
    "application/vnd.databricks.v1+cell": {
     "cellMetadata": {},
     "inputWidgets": {},
     "nuid": "2f8934d7-8b7d-4662-a3a0-449ad866bb8d",
     "showTitle": false,
     "title": ""
    }
   },
   "outputs": [],
   "source": [
    "# TODO\n",
    "# Define a sentence and its scrambled version\n",
    "sentence_q3 = \"the cat chased the dog\"\n",
    "scrambled_sentence_q3 = \"dog the chased cat the\"\n",
    "\n",
    "# Compute embeddings and cosine similarity\n",
    "original_embedding = \"<FILL_IN>\"\n",
    "scrambled_embedding = \"<FILL_IN>\"\n",
    "\n",
    "# Compute the average embeddings of each sentence\n",
    "avg_embedding_original = \"<FILL_IN>\"\n",
    "avg_embedding_scrambled = \"<FILL_IN>\"\n",
    "\n",
    "similarity = \"<FILL_IN>\"\n",
    "print(\"Cosine similarity between original and scrambled sentence embeddings:\", similarity.item())"
   ]
  },
  {
   "cell_type": "code",
   "execution_count": 0,
   "metadata": {
    "application/vnd.databricks.v1+cell": {
     "cellMetadata": {},
     "inputWidgets": {},
     "nuid": "7c85de80-691c-487c-88f0-75314d1edb64",
     "showTitle": false,
     "title": ""
    }
   },
   "outputs": [],
   "source": [
    "# Test your answer. DO NOT MODIFY THIS CELL.\n",
    "\n",
    "dbTestQuestion1_3(sentence_q3, scrambled_sentence_q3)"
   ]
  },
  {
   "cell_type": "markdown",
   "metadata": {
    "application/vnd.databricks.v1+cell": {
     "cellMetadata": {},
     "inputWidgets": {},
     "nuid": "99b42e15-46bd-40d2-ba5b-795c687ea774",
     "showTitle": false,
     "title": ""
    }
   },
   "source": [
    "**Question 4:** \n",
    "Compute the cosine similarity between the embeddings of a word used in two different contexts. For example, try the word `bank`, \"he needs to bank the money\" vs. \"he is going to the bank of the river\". What do you observe?"
   ]
  },
  {
   "cell_type": "code",
   "execution_count": 0,
   "metadata": {
    "application/vnd.databricks.v1+cell": {
     "cellMetadata": {},
     "inputWidgets": {},
     "nuid": "e20ff860-801f-4cce-ab82-e006553cc765",
     "showTitle": false,
     "title": ""
    }
   },
   "outputs": [],
   "source": [
    "# TODO\n",
    "# Define two sentences where a word has different meanings\n",
    "sentence_q4a = \"he needs to bank the money\"\n",
    "sentence_q4b = \"he is going to the bank of the river\"\n",
    "# Compute embeddings and cosine similarity\n",
    "embedding1 = \"<FILL_IN>\"\n",
    "embedding2 = \"<FILL_IN>\"\n",
    "\n",
    "# Compute the average embeddings of each sentence\n",
    "avg_embedding1 = \"<FILL_IN>\"\n",
    "avg_embedding2 = \"<FILL_IN>\"\n",
    "\n",
    "similarity = \"<FILL_IN>\"\n",
    "print(f\"Cosine similarity between embeddings of the word 'bank' in two different contexts: {similarity.item()}\")"
   ]
  },
  {
   "cell_type": "code",
   "execution_count": 0,
   "metadata": {
    "application/vnd.databricks.v1+cell": {
     "cellMetadata": {},
     "inputWidgets": {},
     "nuid": "b1f94bc9-0c7c-498b-bc96-a45785480487",
     "showTitle": false,
     "title": ""
    }
   },
   "outputs": [],
   "source": [
    "# Test your answer. DO NOT MODIFY THIS CELL.\n",
    "\n",
    "dbTestQuestion1_4(sentence_q4a, sentence_q4b)"
   ]
  },
  {
   "cell_type": "markdown",
   "metadata": {
    "application/vnd.databricks.v1+cell": {
     "cellMetadata": {},
     "inputWidgets": {},
     "nuid": "006fbdba-d3e7-407d-948a-a28c50e6181c",
     "showTitle": false,
     "title": ""
    }
   },
   "source": [
    "# Section 2 - Masked Language Modeling (MLM) with BERT\n",
    "\n",
    "One of the training tasks for BERT is Masked Language Modeling (MLM). In MLM, some percentage of the input tokens are masked at random, and the objective is to predict the original vocabulary id of the masked word based only on its context. Unlike traditional language modeling, MLM is not a sequential task because BERT uses the entire context (left and right of the mask) to predict the masked word. This allows BERT to pre-train a deep bidirectional representation in a straightforward way, which is difficult in standard language modeling."
   ]
  },
  {
   "cell_type": "markdown",
   "metadata": {
    "application/vnd.databricks.v1+cell": {
     "cellMetadata": {},
     "inputWidgets": {},
     "nuid": "daba028d-cd93-4c93-b157-1b9a7d2ff054",
     "showTitle": false,
     "title": ""
    }
   },
   "source": [
    "### Masked Language Modeling with BERT\n",
    "\n",
    "We load a pre-trained BERT model that has been fine-tuned for the masked language modeling (MLM) task. We then define a function to predict the word that should fill a `[MASK]` token in a sentence."
   ]
  },
  {
   "cell_type": "code",
   "execution_count": 0,
   "metadata": {
    "application/vnd.databricks.v1+cell": {
     "cellMetadata": {},
     "inputWidgets": {},
     "nuid": "22b38f5b-bab6-4cd9-b588-8cf0467e38f3",
     "showTitle": false,
     "title": ""
    }
   },
   "outputs": [],
   "source": [
    "# Import the necessary libraries\n",
    "from transformers import BertTokenizer, BertForMaskedLM\n",
    "\n",
    "# Load pre-trained model and tokenizer\n",
    "tokenizer = BertTokenizer.from_pretrained(\"bert-base-uncased\", cache_dir=DA.paths.datasets+\"/models\")\n",
    "mlm_model = BertForMaskedLM.from_pretrained(\"bert-base-uncased\", cache_dir=DA.paths.datasets+\"/models\")\n",
    "\n",
    "# Define a function to predict masked words\n",
    "def predict_masked_words(sentence, model, tokenizer):\n",
    "    inputs = tokenizer(sentence, return_tensors=\"pt\")\n",
    "    with torch.no_grad():\n",
    "        outputs = model(**inputs)\n",
    "    predicted_token_ids = outputs.logits.argmax(dim=-1)\n",
    "    predicted_tokens = tokenizer.convert_ids_to_tokens(predicted_token_ids[0])\n",
    "    return \" \".join(predicted_tokens)\n",
    "\n",
    "# Define a sentence with a masked word\n",
    "sentence = \"I love to play [MASK] ball.\"\n",
    "print(predict_masked_words(sentence, mlm_model, tokenizer))"
   ]
  },
  {
   "cell_type": "markdown",
   "metadata": {
    "application/vnd.databricks.v1+cell": {
     "cellMetadata": {},
     "inputWidgets": {},
     "nuid": "418ec2f1-1ab3-4d70-9b45-1aa46a78f0ef",
     "showTitle": false,
     "title": ""
    }
   },
   "source": [
    "### Predict Different Masked Words\n",
    "\n",
    "We define different sentences with masked words and use our model to predict what these masked words should be."
   ]
  },
  {
   "cell_type": "code",
   "execution_count": 0,
   "metadata": {
    "application/vnd.databricks.v1+cell": {
     "cellMetadata": {},
     "inputWidgets": {},
     "nuid": "2bcd281b-7cde-46cb-bf5f-c6d8d3039588",
     "showTitle": false,
     "title": ""
    }
   },
   "outputs": [],
   "source": [
    "# Define different sentences with masked words\n",
    "sentences = [\n",
    "    \"The weather today is [MASK].\",\n",
    "    \"I like to eat [MASK] for breakfast.\",\n",
    "    \"She is a [MASK] woman.\",\n",
    "    \"He drives a [MASK] car.\",\n",
    "    \"They are going to the [MASK].\"\n",
    "]\n",
    "\n",
    "# Use the model to predict the masked words\n",
    "for sentence in sentences:\n",
    "    print(predict_masked_words(sentence, mlm_model, tokenizer))"
   ]
  },
  {
   "cell_type": "markdown",
   "metadata": {
    "application/vnd.databricks.v1+cell": {
     "cellMetadata": {},
     "inputWidgets": {},
     "nuid": "9734e0c3-f5d5-4b18-832a-bb2c500cc2b1",
     "showTitle": false,
     "title": ""
    }
   },
   "source": [
    "### Experiment with Different Sentences\n",
    "\n",
    "We define even more sentences with masked words and use our model to predict what these masked words should be."
   ]
  },
  {
   "cell_type": "code",
   "execution_count": 0,
   "metadata": {
    "application/vnd.databricks.v1+cell": {
     "cellMetadata": {},
     "inputWidgets": {},
     "nuid": "d932b76b-d3a3-4479-b10c-6a87eff8d468",
     "showTitle": false,
     "title": ""
    }
   },
   "outputs": [],
   "source": [
    "# Define more sentences with masked words\n",
    "sentences = [\n",
    "    \"My favorite color is [MASK].\",\n",
    "    \"The cat sat on the [MASK].\",\n",
    "    \"I am reading a [MASK] book.\",\n",
    "    \"She has a [MASK] of apples.\",\n",
    "    \"He plays the [MASK] in a band.\"\n",
    "]\n",
    "\n",
    "# Use the model to predict the masked words\n",
    "for sentence in sentences:\n",
    "    print(predict_masked_words(sentence, mlm_model, tokenizer))"
   ]
  },
  {
   "cell_type": "markdown",
   "metadata": {
    "application/vnd.databricks.v1+cell": {
     "cellMetadata": {},
     "inputWidgets": {},
     "nuid": "5f684126-ce3f-4f70-9e5b-755359d51f39",
     "showTitle": false,
     "title": ""
    }
   },
   "source": [
    "# Section 2 - Questions\n",
    "\n",
    "Having explored the use of BERT for masked language modeling, we can now explore some questions related to this task.\n",
    "\n",
    "**Question 5:** \n",
    "What happens when you mask more than one word in a sentence? Can the model accurately predict both masked words?"
   ]
  },
  {
   "cell_type": "code",
   "execution_count": 0,
   "metadata": {
    "application/vnd.databricks.v1+cell": {
     "cellMetadata": {},
     "inputWidgets": {},
     "nuid": "49651aab-ce1c-4417-a0ff-0b2da749d6d4",
     "showTitle": false,
     "title": ""
    }
   },
   "outputs": [],
   "source": [
    "# TODO\n",
    "# Define a sentence with two masked words\n",
    "sentence_q5 = \"<FILL_IN>\"\n",
    "print(predict_masked_words(sentence_q5, mlm_model, tokenizer))"
   ]
  },
  {
   "cell_type": "code",
   "execution_count": 0,
   "metadata": {
    "application/vnd.databricks.v1+cell": {
     "cellMetadata": {},
     "inputWidgets": {},
     "nuid": "02c5c8f0-ec53-42b7-bba4-1c1e47c532cd",
     "showTitle": false,
     "title": ""
    }
   },
   "outputs": [],
   "source": [
    "# Test your answer. DO NOT MODIFY THIS CELL.\n",
    "\n",
    "dbTestQuestion1_5(sentence_q5)"
   ]
  },
  {
   "cell_type": "markdown",
   "metadata": {
    "application/vnd.databricks.v1+cell": {
     "cellMetadata": {},
     "inputWidgets": {},
     "nuid": "8a08823f-cead-4927-8231-cab557ab0e47",
     "showTitle": false,
     "title": ""
    }
   },
   "source": [
    "**Question 6:** \n",
    "Use the model to predict the masked word in a sentence in a language other than English. Does the model accurately predict the masked word? Think about why/why not."
   ]
  },
  {
   "cell_type": "code",
   "execution_count": 0,
   "metadata": {
    "application/vnd.databricks.v1+cell": {
     "cellMetadata": {},
     "inputWidgets": {},
     "nuid": "9f6d1aca-e249-448a-911f-f425e5bcf8c4",
     "showTitle": false,
     "title": ""
    }
   },
   "outputs": [],
   "source": [
    "# TODO\n",
    "# Define a sentence in French with a masked word\n",
    "sentence_q6 = \"<FILL_IN>\"\n",
    "print(predict_masked_words(sentence_q6, mlm_model, tokenizer))"
   ]
  },
  {
   "cell_type": "code",
   "execution_count": 0,
   "metadata": {
    "application/vnd.databricks.v1+cell": {
     "cellMetadata": {},
     "inputWidgets": {},
     "nuid": "cb85f885-4a25-49ed-a237-e14294ec29a8",
     "showTitle": false,
     "title": ""
    }
   },
   "outputs": [],
   "source": [
    "# Test your answer. DO NOT MODIFY THIS CELL.\n",
    "\n",
    "dbTestQuestion1_6(sentence_q6)"
   ]
  },
  {
   "cell_type": "markdown",
   "metadata": {
    "application/vnd.databricks.v1+cell": {
     "cellMetadata": {},
     "inputWidgets": {},
     "nuid": "9dced900-12d9-4cda-8345-d0f1f445301a",
     "showTitle": false,
     "title": ""
    }
   },
   "source": [
    "**Question 7:** \n",
    "Mask a word that has different meanings in different contexts. Does the model accurately predict the correct word based on the context?"
   ]
  },
  {
   "cell_type": "code",
   "execution_count": 0,
   "metadata": {
    "application/vnd.databricks.v1+cell": {
     "cellMetadata": {},
     "inputWidgets": {},
     "nuid": "4dd2a289-a4a8-43a0-8533-4ef8fc5d2c0f",
     "showTitle": false,
     "title": ""
    }
   },
   "outputs": [],
   "source": [
    "# TODO\n",
    "# Define two sentences where a word has different meanings\n",
    "sentence_q7a = \"<FILL_IN>\"\n",
    "sentence_q7b = \"<FILL_IN>\"\n",
    "print(predict_masked_words(sentence_q7a, mlm_model, tokenizer))\n",
    "print(predict_masked_words(sentence_q7b, mlm_model, tokenizer))"
   ]
  },
  {
   "cell_type": "code",
   "execution_count": 0,
   "metadata": {
    "application/vnd.databricks.v1+cell": {
     "cellMetadata": {},
     "inputWidgets": {},
     "nuid": "d932ae41-466c-4b90-88a6-2390e5e4d8ae",
     "showTitle": false,
     "title": ""
    }
   },
   "outputs": [],
   "source": [
    "# Test your answer. DO NOT MODIFY THIS CELL.\n",
    "\n",
    "dbTestQuestion1_7(sentence_q7a, sentence_q7b)"
   ]
  },
  {
   "cell_type": "markdown",
   "metadata": {
    "application/vnd.databricks.v1+cell": {
     "cellMetadata": {},
     "inputWidgets": {},
     "nuid": "dab4885d-b421-4fe9-9e47-a404b4c54d92",
     "showTitle": false,
     "title": ""
    }
   },
   "source": [
    "**Question 8:** \n",
    "Mask a word in a sentence that makes sense only in a specific cultural context. Does the model accurately predict the masked word?"
   ]
  },
  {
   "cell_type": "code",
   "execution_count": 0,
   "metadata": {
    "application/vnd.databricks.v1+cell": {
     "cellMetadata": {},
     "inputWidgets": {},
     "nuid": "c10936d8-fccb-4727-af87-3d85ea6f171d",
     "showTitle": false,
     "title": ""
    }
   },
   "outputs": [],
   "source": [
    "# TODO\n",
    "# Define a sentence that makes sense only in a specific cultural context\n",
    "sentence_q8 = \"<FILL_IN>\"\n",
    "print(predict_masked_words(sentence_q8, mlm_model, tokenizer))"
   ]
  },
  {
   "cell_type": "code",
   "execution_count": 0,
   "metadata": {
    "application/vnd.databricks.v1+cell": {
     "cellMetadata": {},
     "inputWidgets": {},
     "nuid": "9309f407-b271-4f64-a34f-3ac97e53741b",
     "showTitle": false,
     "title": ""
    }
   },
   "outputs": [],
   "source": [
    "# Test your answer. DO NOT MODIFY THIS CELL.\n",
    "\n",
    "dbTestQuestion1_8(sentence_q8)"
   ]
  },
  {
   "cell_type": "markdown",
   "metadata": {
    "application/vnd.databricks.v1+cell": {
     "cellMetadata": {},
     "inputWidgets": {},
     "nuid": "7c3d4937-57fd-4e0f-8a30-94b479e97cac",
     "showTitle": false,
     "title": ""
    }
   },
   "source": [
    "**Question 9:** \n",
    "Mask a word in a sentence that contains an idiomatic expression. Does the model accurately predict the masked word?"
   ]
  },
  {
   "cell_type": "code",
   "execution_count": 0,
   "metadata": {
    "application/vnd.databricks.v1+cell": {
     "cellMetadata": {},
     "inputWidgets": {},
     "nuid": "c1da9aee-007f-4173-af0b-bd3e92fdd722",
     "showTitle": false,
     "title": ""
    }
   },
   "outputs": [],
   "source": [
    "# TODO\n",
    "# Define a sentence that contains an idiomatic expression\n",
    "sentence_q9 = \"<FILL_IN>\"\n",
    "print(predict_masked_words(sentence_q9, mlm_model, tokenizer))"
   ]
  },
  {
   "cell_type": "code",
   "execution_count": 0,
   "metadata": {
    "application/vnd.databricks.v1+cell": {
     "cellMetadata": {},
     "inputWidgets": {},
     "nuid": "d87f37ca-c084-44ca-815c-fe76e6dc5457",
     "showTitle": false,
     "title": ""
    }
   },
   "outputs": [],
   "source": [
    "# Test your answer. DO NOT MODIFY THIS CELL.\n",
    "\n",
    "dbTestQuestion1_9(sentence_q9)"
   ]
  },
  {
   "cell_type": "markdown",
   "metadata": {
    "application/vnd.databricks.v1+cell": {
     "cellMetadata": {},
     "inputWidgets": {},
     "nuid": "11267cc9-fbab-41aa-8ad0-b438c04b0081",
     "showTitle": false,
     "title": ""
    }
   },
   "source": [
    "&copy; 2023 Databricks, Inc. All rights reserved.<br/>\n",
    "Apache, Apache Spark, Spark and the Spark logo are trademarks of the <a href=\"https://www.apache.org/\">Apache Software Foundation</a>.<br/>\n",
    "<br/>\n",
    "<a href=\"https://databricks.com/privacy-policy\">Privacy Policy</a> | <a href=\"https://databricks.com/terms-of-use\">Terms of Use</a> | <a href=\"https://help.databricks.com/\">Support</a>"
   ]
  }
 ],
 "metadata": {
  "application/vnd.databricks.v1+notebook": {
   "dashboards": [],
   "language": "python",
   "notebookMetadata": {
    "pythonIndentUnit": 4
   },
   "notebookName": "LLM 01L - Transformer Architecture Lab",
   "widgets": {}
  }
 },
 "nbformat": 4,
 "nbformat_minor": 0
}
